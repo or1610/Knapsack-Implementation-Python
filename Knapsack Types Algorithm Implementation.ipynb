{
 "cells": [
  {
   "cell_type": "markdown",
   "id": "496ba5fd",
   "metadata": {},
   "source": [
    "## Python implementation of the knapsack problem  - \n",
    "##  3 Different Methods"
   ]
  },
  {
   "cell_type": "code",
   "execution_count": 1,
   "id": "41d826a3",
   "metadata": {},
   "outputs": [],
   "source": [
    "# Example usage (WEIGHT, VALUE OR PROFIT)\n",
    "items = [(30, 20), (25, 18), (20, 17), (18, 15), (17, 15), (11, 10), (5, 5), (2, 3), (1, 1), (1, 1)]"
   ]
  },
  {
   "cell_type": "markdown",
   "id": "ed61a50a",
   "metadata": {},
   "source": [
    "### Python implementation of the knapsack problem using dynamic programming:"
   ]
  },
  {
   "cell_type": "code",
   "execution_count": 2,
   "id": "9479f7f6",
   "metadata": {},
   "outputs": [],
   "source": [
    "def knapsack1(items, capacity):\n",
    "    # Define a 2D array \"dp\" with rows representing the items and columns representing the capacities. Initialize all elements of the array to 0.\n",
    "    dp = [[0 for _ in range(capacity+1)] for _ in range(len(items)+1)]\n",
    "    \n",
    "    # Iterate through the items and do the following for each item:\n",
    "    for i in range(1, len(items)+1):\n",
    "        # For each capacity c, starting from 0 up to the maximum capacity, set dp[i][c] to the maximum of the following two values:\n",
    "        for c in range(capacity+1):\n",
    "            # The value of dp[i-1][c], which represents the maximum value that can be obtained by not including the current item.\n",
    "            not_including = dp[i-1][c]\n",
    "            # The value of dp[i-1][c-w[i]] + v[i], where w[i] and v[i] are the weight and value of the current item, respectively. This represents the maximum value that can be obtained by including the current item, assuming that there is enough capacity remaining.\n",
    "            including = dp[i-1][c-items[i-1][0]] + items[i-1][1] if c-items[i-1][0] >= 0 else 0\n",
    "            dp[i][c] = max(not_including, including)\n",
    "    \n",
    "    # Return the value of dp[n][C], where n is the number of items and C is the capacity of the knapsack. This represents the maximum value that can be obtained using all the items and the given capacity.\n",
    "    return dp[len(items)][capacity] \n"
   ]
  },
  {
   "cell_type": "code",
   "execution_count": 3,
   "id": "e67ff82b",
   "metadata": {},
   "outputs": [
    {
     "name": "stdout",
     "output_type": "stream",
     "text": [
      "50\n"
     ]
    }
   ],
   "source": [
    "capacity = 55\n",
    "print(knapsack1(items, capacity)) "
   ]
  },
  {
   "cell_type": "code",
   "execution_count": 4,
   "id": "4f69bc25",
   "metadata": {},
   "outputs": [
    {
     "name": "stdout",
     "output_type": "stream",
     "text": [
      "75\n"
     ]
    }
   ],
   "source": [
    "capacity = 90\n",
    "print(knapsack1(items, capacity)) "
   ]
  },
  {
   "cell_type": "code",
   "execution_count": 5,
   "id": "3eeb074e",
   "metadata": {},
   "outputs": [
    {
     "name": "stdout",
     "output_type": "stream",
     "text": [
      "52\n"
     ]
    }
   ],
   "source": [
    "capacity = 60\n",
    "print(knapsack1(items, capacity)) "
   ]
  },
  {
   "cell_type": "code",
   "execution_count": 6,
   "id": "dc063038",
   "metadata": {},
   "outputs": [
    {
     "name": "stdout",
     "output_type": "stream",
     "text": [
      "57\n"
     ]
    }
   ],
   "source": [
    "capacity = 65 \n",
    "print(knapsack1(items, capacity)) "
   ]
  },
  {
   "cell_type": "markdown",
   "id": "690e4600",
   "metadata": {},
   "source": [
    "### Python implementation of the knapsack problem using a δ-approximation algorithm with δ=2"
   ]
  },
  {
   "cell_type": "code",
   "execution_count": 7,
   "id": "d58e97fa",
   "metadata": {},
   "outputs": [],
   "source": [
    "def knapsack2(items, capacity):\n",
    "    # Sort the items in decreasing order of value/weight ratio\n",
    "    items.sort(key=lambda x: x[1]/x[0], reverse=True)\n",
    "    \n",
    "    total_value = 0\n",
    "    total_weight = 0\n",
    "    \n",
    "    # Iterate through the items and do the following for each item:\n",
    "    for item in items:\n",
    "        # If the weight of the current item is less than or equal to the remaining capacity, add it to the knapsack\n",
    "        if total_weight + item[0] <= capacity:\n",
    "            total_value += item[1]\n",
    "            total_weight += item[0]\n",
    "        # Otherwise, add a fraction of the current item to the knapsack\n",
    "        else:\n",
    "            fraction = (capacity - total_weight) / item[0]\n",
    "            total_value += fraction * item[1]\n",
    "            total_weight += fraction * item[0]\n",
    "            break\n",
    "    \n",
    "    # Return the total value of the items in the knapsack\n",
    "    return total_value\n",
    "\n"
   ]
  },
  {
   "cell_type": "code",
   "execution_count": 8,
   "id": "2088d47c",
   "metadata": {},
   "outputs": [
    {
     "name": "stdout",
     "output_type": "stream",
     "text": [
      "50.3\n"
     ]
    }
   ],
   "source": [
    "capacity = 55\n",
    "print(knapsack2(items, capacity)) "
   ]
  },
  {
   "cell_type": "code",
   "execution_count": 9,
   "id": "ba43f66b",
   "metadata": {},
   "outputs": [
    {
     "name": "stdout",
     "output_type": "stream",
     "text": [
      "77.8\n"
     ]
    }
   ],
   "source": [
    "capacity = 90\n",
    "print(knapsack2(items, capacity)) "
   ]
  },
  {
   "cell_type": "code",
   "execution_count": 10,
   "id": "71bf38f5",
   "metadata": {},
   "outputs": [
    {
     "name": "stdout",
     "output_type": "stream",
     "text": [
      "54.5\n"
     ]
    }
   ],
   "source": [
    "capacity = 60\n",
    "print(knapsack2(items, capacity)) "
   ]
  },
  {
   "cell_type": "code",
   "execution_count": 11,
   "id": "64051289",
   "metadata": {},
   "outputs": [
    {
     "name": "stdout",
     "output_type": "stream",
     "text": [
      "58.666666666666664\n"
     ]
    }
   ],
   "source": [
    "capacity = 65\n",
    "print(knapsack2(items, capacity)) "
   ]
  },
  {
   "cell_type": "markdown",
   "id": "a15f4a38",
   "metadata": {},
   "source": [
    "### Python implementation of the knapsack problem using a greedy algorithm:"
   ]
  },
  {
   "cell_type": "code",
   "execution_count": 12,
   "id": "d0880c1c",
   "metadata": {},
   "outputs": [],
   "source": [
    "def knapsack3(items, capacity):\n",
    "    # Sort the items in decreasing order of value\n",
    "    items.sort(key=lambda x: x[1], reverse=True)\n",
    "    \n",
    "    total_value = 0\n",
    "    total_weight = 0\n",
    "    \n",
    "    # Iterate through the items and do the following for each item:\n",
    "    for item in items:\n",
    "        # If the weight of the current item is less than or equal to the remaining capacity, add it to the knapsack\n",
    "        if total_weight + item[0] <= capacity:\n",
    "            total_value += item[1]\n",
    "            total_weight += item[0]\n",
    "    \n",
    "    # Return the total value of the items in the knapsack\n",
    "    return total_value\n",
    " "
   ]
  },
  {
   "cell_type": "code",
   "execution_count": 13,
   "id": "4dcfaee7",
   "metadata": {},
   "outputs": [
    {
     "name": "stdout",
     "output_type": "stream",
     "text": [
      "38\n"
     ]
    }
   ],
   "source": [
    "capacity = 55\n",
    "print(knapsack3(items, capacity)) "
   ]
  },
  {
   "cell_type": "code",
   "execution_count": 14,
   "id": "6f3f4486",
   "metadata": {},
   "outputs": [
    {
     "name": "stdout",
     "output_type": "stream",
     "text": [
      "70\n"
     ]
    }
   ],
   "source": [
    "capacity = 90\n",
    "print(knapsack3(items, capacity)) "
   ]
  },
  {
   "cell_type": "code",
   "execution_count": 15,
   "id": "1312175e",
   "metadata": {},
   "outputs": [
    {
     "name": "stdout",
     "output_type": "stream",
     "text": [
      "43\n"
     ]
    }
   ],
   "source": [
    "capacity = 60\n",
    "print(knapsack3(items, capacity)) "
   ]
  },
  {
   "cell_type": "code",
   "execution_count": 16,
   "id": "ffa55e10",
   "metadata": {},
   "outputs": [
    {
     "name": "stdout",
     "output_type": "stream",
     "text": [
      "48\n"
     ]
    }
   ],
   "source": [
    "capacity = 65\n",
    "print(knapsack3(items, capacity)) "
   ]
  }
 ],
 "metadata": {
  "kernelspec": {
   "display_name": "Python 3 (ipykernel)",
   "language": "python",
   "name": "python3"
  },
  "language_info": {
   "codemirror_mode": {
    "name": "ipython",
    "version": 3
   },
   "file_extension": ".py",
   "mimetype": "text/x-python",
   "name": "python",
   "nbconvert_exporter": "python",
   "pygments_lexer": "ipython3",
   "version": "3.9.12"
  }
 },
 "nbformat": 4,
 "nbformat_minor": 5
}
